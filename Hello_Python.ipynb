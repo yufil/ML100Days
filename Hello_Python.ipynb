{
 "cells": [
  {
   "cell_type": "code",
   "execution_count": 6,
   "metadata": {},
   "outputs": [],
   "source": [
    "import numpy as np"
   ]
  },
  {
   "cell_type": "code",
   "execution_count": 7,
   "metadata": {},
   "outputs": [
    {
     "data": {
      "text/plain": [
       "array([ 0,  1,  2,  3,  4,  5,  6,  7,  8,  9, 10, 11, 12, 13, 14, 15, 16,\n",
       "       17, 18, 19, 20])"
      ]
     },
     "execution_count": 7,
     "metadata": {},
     "output_type": "execute_result"
    }
   ],
   "source": [
    "#等差級數0-20\n",
    "a = np.arange(0,21,1)\n",
    "a"
   ]
  },
  {
   "cell_type": "code",
   "execution_count": 12,
   "metadata": {
    "scrolled": true
   },
   "outputs": [
    {
     "name": "stdout",
     "output_type": "stream",
     "text": [
      "偶數: [ 2  4  6  8 10 12 14 16 18 20]\n"
     ]
    }
   ],
   "source": [
    "#取出偶數\n",
    "a_even = a[2::2]\n",
    "odd = a_even\n",
    "print('偶數:',odd)"
   ]
  },
  {
   "cell_type": "code",
   "execution_count": 14,
   "metadata": {},
   "outputs": [
    {
     "name": "stdout",
     "output_type": "stream",
     "text": [
      "3的倍數: [ 0  3  6  9 12 15 18]\n"
     ]
    }
   ],
   "source": [
    "#取出3的倍數\n",
    "b= a[::3]\n",
    "print(\"3的倍數:\", b)"
   ]
  },
  {
   "cell_type": "code",
   "execution_count": 17,
   "metadata": {},
   "outputs": [
    {
     "name": "stdout",
     "output_type": "stream",
     "text": [
      "list(a):  [4, 2, 0, 8, 1, 2]\n",
      "tolist():  [4, 2, 0, 8, 1, 2]\n"
     ]
    }
   ],
   "source": [
    "#請問下列兩種將 Array 轉換成 List 的方式有何不同？\n",
    "print('list(a): ', list(a))\n",
    "print('tolist(): ', a.tolist())\n",
    "若a為多層次矩陣, list(a)只會把第一層的元素轉換成 List,其餘仍為Array\n",
    "而tolist() 才能達成多層的型態轉換,將全部轉為List"
   ]
  },
  {
   "cell_type": "code",
   "execution_count": 7,
   "metadata": {},
   "outputs": [
    {
     "name": "stdout",
     "output_type": "stream",
     "text": [
      "list(a):  [0, 1, 2, 3, 4, 5, 6, 7, 8, 9, 10, 11, 12, 13, 14, 15, 16, 17, 18, 19, 20]\n",
      "tolist():  [0, 1, 2, 3, 4, 5, 6, 7, 8, 9, 10, 11, 12, 13, 14, 15, 16, 17, 18, 19, 20]\n"
     ]
    }
   ],
   "source": [
    "a = np.arange(0,21,1)\n",
    "print('list(a): ', list(a))\n",
    "print('tolist(): ', a.tolist())"
   ]
  },
  {
   "cell_type": "code",
   "execution_count": 10,
   "metadata": {},
   "outputs": [
    {
     "data": {
      "text/plain": [
       "array([[[0, 0],\n",
       "        [7, 0],\n",
       "        [5, 1]],\n",
       "\n",
       "       [[1, 7],\n",
       "        [4, 5],\n",
       "        [6, 7]]])"
      ]
     },
     "execution_count": 10,
     "metadata": {},
     "output_type": "execute_result"
    }
   ],
   "source": [
    "#請試著在程式中印出以下三個 NdArray 的屬性？\n",
    "a = np.random.randint(10, size=6)\n",
    "b = np.random.randint(10, size=(3,4))\n",
    "c = np.random.randint(10, size=(2,3,2))\n",
    "a\n",
    "b\n",
    "c"
   ]
  },
  {
   "cell_type": "code",
   "execution_count": 9,
   "metadata": {},
   "outputs": [
    {
     "name": "stdout",
     "output_type": "stream",
     "text": [
      "ndim: 1\n",
      "shape: (6,)\n",
      "size: 6\n",
      "dtype: int32\n",
      "itemsize: 4\n",
      "data: <memory at 0x00000263D0467100>\n"
     ]
    }
   ],
   "source": [
    "import numpy as np\n",
    "a = np.random.randint(10, size=6)\n",
    "print(\"ndim:\",a.ndim)\n",
    "print(\"shape:\",a.shape)\n",
    "print(\"size:\",a.size)\n",
    "print(\"dtype:\",a.dtype)\n",
    "print(\"itemsize:\",a.itemsize)\n",
    "print(\"data:\",a.data)"
   ]
  },
  {
   "cell_type": "code",
   "execution_count": 11,
   "metadata": {},
   "outputs": [
    {
     "name": "stdout",
     "output_type": "stream",
     "text": [
      "ndim: 2\n",
      "shape: (3, 4)\n",
      "size: 12\n",
      "dtype: int32\n",
      "itemsize: 4\n",
      "data: <memory at 0x00000263CFF911E0>\n"
     ]
    }
   ],
   "source": [
    "import numpy as np\n",
    "b = np.random.randint(10, size=(3,4))\n",
    "print(\"ndim:\",b.ndim)\n",
    "print(\"shape:\",b.shape)\n",
    "print(\"size:\",b.size)\n",
    "print(\"dtype:\",b.dtype)\n",
    "print(\"itemsize:\",b.itemsize)\n",
    "print(\"data:\",b.data)"
   ]
  },
  {
   "cell_type": "code",
   "execution_count": 12,
   "metadata": {},
   "outputs": [
    {
     "name": "stdout",
     "output_type": "stream",
     "text": [
      "ndim: 3\n",
      "shape: (2, 3, 2)\n",
      "size: 12\n",
      "dtype: int32\n",
      "itemsize: 4\n",
      "data: <memory at 0x00000263D0369A90>\n"
     ]
    }
   ],
   "source": [
    "import numpy as np\n",
    "c = np.random.randint(10, size=(2,3,2))\n",
    "print(\"ndim:\",c.ndim)\n",
    "print(\"shape:\",c.shape)\n",
    "print(\"size:\",c.size)\n",
    "print(\"dtype:\",c.dtype)\n",
    "print(\"itemsize:\",c.itemsize)\n",
    "print(\"data:\",c.data)"
   ]
  },
  {
   "cell_type": "code",
   "execution_count": null,
   "metadata": {},
   "outputs": [],
   "source": [
    "#如何利用 list(...) 實現 a.tolist() 的效果？"
   ]
  },
  {
   "cell_type": "code",
   "execution_count": 14,
   "metadata": {},
   "outputs": [
    {
     "name": "stdout",
     "output_type": "stream",
     "text": [
      "[4, 2, 0, 8, 1, 2]\n",
      "[4, 2, 0, 8, 1, 2]\n"
     ]
    }
   ],
   "source": [
    "print(list(a))\n",
    "print(a.tolist())"
   ]
  },
  {
   "cell_type": "code",
   "execution_count": 16,
   "metadata": {},
   "outputs": [
    {
     "name": "stdout",
     "output_type": "stream",
     "text": [
      "[array([2, 7, 9, 9]), array([0, 5, 0, 3]), array([6, 9, 4, 6])]\n",
      "[[2, 7, 9, 9], [0, 5, 0, 3], [6, 9, 4, 6]]\n"
     ]
    }
   ],
   "source": [
    "print(list(b))\n",
    "print(b.tolist())"
   ]
  },
  {
   "cell_type": "code",
   "execution_count": 18,
   "metadata": {},
   "outputs": [
    {
     "name": "stdout",
     "output_type": "stream",
     "text": [
      "[array([[5, 2],\n",
      "       [1, 5],\n",
      "       [6, 5]]), array([[0, 9],\n",
      "       [3, 1],\n",
      "       [0, 2]])]\n",
      "[[[5, 2], [1, 5], [6, 5]], [[0, 9], [3, 1], [0, 2]]]\n"
     ]
    }
   ],
   "source": [
    "print(list(c))\n",
    "print(c.tolist())"
   ]
  }
 ],
 "metadata": {
  "kernelspec": {
   "display_name": "Python 3",
   "language": "python",
   "name": "python3"
  },
  "language_info": {
   "codemirror_mode": {
    "name": "ipython",
    "version": 3
   },
   "file_extension": ".py",
   "mimetype": "text/x-python",
   "name": "python",
   "nbconvert_exporter": "python",
   "pygments_lexer": "ipython3",
   "version": "3.8.5"
  }
 },
 "nbformat": 4,
 "nbformat_minor": 4
}
